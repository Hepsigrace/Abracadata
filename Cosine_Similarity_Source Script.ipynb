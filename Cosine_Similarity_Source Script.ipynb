{
  "nbformat": 4,
  "nbformat_minor": 0,
  "metadata": {
    "colab": {
      "provenance": []
    },
    "kernelspec": {
      "name": "python3",
      "display_name": "Python 3"
    },
    "language_info": {
      "name": "python"
    }
  },
  "cells": [
    {
      "cell_type": "code",
      "source": [
        "#cons\n",
        "MODEL_FOR_TRANSFORMER=\"sentence-transformers/all-MiniLM-L6-v2\"\n",
        "!pip install scikit-learn\n",
        "!pip install pandas\n",
        "!pip install -U sentence-transformers\n",
        "from sentence_transformers import SentenceTransformer, util\n",
        "from sklearn.metrics.pairwise import cosine_similarity\n",
        "from google.colab import files\n",
        "import pandas as pd\n",
        "from transformers import AutoTokenizer, AutoModel\n",
        "from sklearn.metrics.pairwise import cosine_similarity"
      ],
      "metadata": {
        "id": "44aO2eut8f-j"
      },
      "execution_count": null,
      "outputs": []
    },
    {
      "cell_type": "code",
      "source": [
        "\n",
        "#function read file - to be changed for cloud\n",
        "def readFile():\n",
        "  uploaded = files.upload()\n",
        "  uploaded_file_path = list(uploaded.keys())[0]\n",
        "  dfImportedResults = pd.read_csv(uploaded_file_path)\n",
        "  return dfImportedResults\n",
        "\n"
      ],
      "metadata": {
        "id": "DccgqyttIZIt"
      },
      "execution_count": null,
      "outputs": []
    },
    {
      "cell_type": "code",
      "source": [
        "#call the dataframe imported\n",
        "\n",
        "df=readFile()\n",
        "#print(df)\n"
      ],
      "metadata": {
        "id": "5vzYTReriGSv"
      },
      "execution_count": null,
      "outputs": []
    },
    {
      "cell_type": "code",
      "source": [
        "\n",
        "print(df.head())"
      ],
      "metadata": {
        "id": "nQlDDUWL6G6K"
      },
      "execution_count": null,
      "outputs": []
    },
    {
      "cell_type": "code",
      "source": [
        "\n",
        "\n",
        "# Load the transformer model and tokenizer\n",
        "model_name = MODEL_FOR_TRANSFORMER\n",
        "tokenizer = AutoTokenizer.from_pretrained(model_name)\n",
        "model = AutoModel.from_pretrained(model_name)\n",
        "\n",
        "# Function to get sentence embeddings\n",
        "def get_sentence_embedding(sentence):\n",
        "    tokens = tokenizer(sentence, return_tensors=\"pt\")\n",
        "    outputs = model(**tokens)\n",
        "    embeddings = outputs.last_hidden_state.mean(dim=1)\n",
        "    return embeddings.detach().numpy()\n",
        "\n",
        "# Function to calculate cosine similarity between a reference cell and two other cells\n",
        "def calculate_cosine_similarity(reference, target1, target2):\n",
        "    embedding_ref = get_sentence_embedding(reference).reshape(1, -1)\n",
        "    embedding_target1 = get_sentence_embedding(target1).reshape(1, -1)\n",
        "    embedding_target2 = get_sentence_embedding(target2).reshape(1, -1)\n",
        "\n",
        "    similarity_score1 = cosine_similarity(embedding_ref, embedding_target1)[0][0]\n",
        "    similarity_score2 = cosine_similarity(embedding_ref, embedding_target2)[0][0]\n",
        "\n",
        "    return similarity_score1, similarity_score2\n",
        "\n",
        "# Calculate cosine similarity for each pair of cells using a loop\n",
        "for index in range(len(df)):\n",
        "    reference_answer = df.at[index, 'answer']\n",
        "    target1_gemini = df.at[index, 'geminiRep1']\n",
        "    target2_gpt35 = df.at[index, 'gpt35Rep1']\n",
        "\n",
        "    similarity_score1, similarity_score2 = calculate_cosine_similarity(reference_answer, target1_gemini, target2_gpt35)\n",
        "\n",
        "    # Create new columns for cosine similarity scores\n",
        "    df.at[index, 'Cosine_Similarity_Target1Gemini'] = similarity_score1\n",
        "    df.at[index, 'LabelGemini'] = (similarity_score1 > 0.5).astype(int)\n",
        "    df.at[index, 'Cosine_Similarity_Target2GPT'] = similarity_score2\n",
        "    df.at[index, 'LabelGPT'] = (similarity_score2 > 0.5).astype(int)\n",
        "# Display the updated DataFrame\n",
        "print(df)\n"
      ],
      "metadata": {
        "id": "7eo4OuWyMtHo"
      },
      "execution_count": null,
      "outputs": []
    },
    {
      "cell_type": "code",
      "source": [
        "csv_filename = 'FinalSimilarity.csv'\n",
        "df.to_csv(csv_filename, index=False)"
      ],
      "metadata": {
        "id": "96HLE8kTIg5u"
      },
      "execution_count": null,
      "outputs": []
    },
    {
      "cell_type": "code",
      "source": [],
      "metadata": {
        "id": "bRsOIqzx0grB"
      },
      "execution_count": null,
      "outputs": []
    }
  ]
}